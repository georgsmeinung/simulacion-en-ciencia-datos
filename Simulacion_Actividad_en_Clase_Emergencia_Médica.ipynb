{
  "nbformat": 4,
  "nbformat_minor": 0,
  "metadata": {
    "colab": {
      "provenance": [],
      "authorship_tag": "ABX9TyMaXqPhZjDSRnVOFNDQwqdF",
      "include_colab_link": true
    },
    "kernelspec": {
      "name": "python3",
      "display_name": "Python 3"
    },
    "language_info": {
      "name": "python"
    }
  },
  "cells": [
    {
      "cell_type": "markdown",
      "metadata": {
        "id": "view-in-github",
        "colab_type": "text"
      },
      "source": [
        "<a href=\"https://colab.research.google.com/github/georgsmeinung/simulacion-en-ciencia-datos/blob/main/Simulacion_Actividad_en_Clase_Emergencia_M%C3%A9dica.ipynb\" target=\"_parent\"><img src=\"https://colab.research.google.com/assets/colab-badge.svg\" alt=\"Open In Colab\"/></a>"
      ]
    },
    {
      "cell_type": "markdown",
      "source": [
        "**Actividad en clase**\n",
        "\n",
        "* Simulación de atención en una guardia médica (M/M/c + prioridades)\n",
        "* Objetivo: Modelar un servicio de emergencia hospitalaria con diferentes niveles de urgencia (rojo, amarillo, verde). Aspectos a analizar:\n",
        "    * Tasa de llegadas por clase (Poisson)\n",
        "    * Tiempos de servicio exponenciales distintos\n",
        "    * Prioridad no-preemptiva\n",
        "    * Cálculo de métricas por clase (espera, ocupación, tiempo total)\n",
        "* Preguntas guía:\n",
        "    * ¿Cuál es el tiempo promedio de espera por nivel de urgencia?\n",
        "    * ¿Qué porcentaje de pacientes críticos esperan más de cierto umbral?\n",
        "    * ¿Qué número de médicos garantiza un SLA de 90% en < 10 minutos para pacientes rojos?\n",
        "* Salida esperada: tabla y gráficos comparativos de tiempos de espera, heatmap por clase.\n",
        "* Prompt sugerido para ChatGPT:”Usando el modelo de estación de servicio adaptado al contexto hospitalario, simulá una guardia médica con 3 clases de pacientes y prioridad no-preemptiva. Mostrá los KPIs por clase y graficá la evolución de la cola.”"
      ],
      "metadata": {
        "id": "i3hQjxASzxkP"
      }
    },
    {
      "cell_type": "code",
      "source": [
        "!pip install simpy"
      ],
      "metadata": {
        "colab": {
          "base_uri": "https://localhost:8080/"
        },
        "id": "HN8diSWi0U3g",
        "outputId": "d4c27712-cd50-426b-f69b-29641af27630"
      },
      "execution_count": null,
      "outputs": [
        {
          "output_type": "stream",
          "name": "stdout",
          "text": [
            "Collecting simpy\n",
            "  Downloading simpy-4.1.1-py3-none-any.whl.metadata (6.1 kB)\n",
            "Downloading simpy-4.1.1-py3-none-any.whl (27 kB)\n",
            "Installing collected packages: simpy\n",
            "Successfully installed simpy-4.1.1\n"
          ]
        }
      ]
    },
    {
      "cell_type": "markdown",
      "source": [
        "### Celda 1: Importar las Bibliotecas\n",
        "\n",
        "Primero, importamos todas las bibliotecas que necesitaremos. `simpy` es la biblioteca principal para la simulación."
      ],
      "metadata": {
        "id": "Dc-HxDJ02G2T"
      }
    },
    {
      "cell_type": "code",
      "source": [
        "import simpy\n",
        "import random\n",
        "import numpy as np\n",
        "import pandas as pd\n",
        "import matplotlib.pyplot as plt\n",
        "import seaborn as sns\n",
        "\n",
        "# Si no tienes simpy instalado, puedes ejecutar esta línea (quita el #):\n",
        "# !pip install simpy"
      ],
      "metadata": {
        "id": "dISzHqym0CcH"
      },
      "execution_count": null,
      "outputs": []
    },
    {
      "cell_type": "markdown",
      "source": [
        "### Celda 2: Parámetros de la Simulación\n",
        "\n",
        "Aquí definimos todos los \"controles\" de nuestra simulación. Puedes cambiar estos valores (ej. `NUM_DOCTORES`) para experimentar.\n",
        "\n",
        "**Importante:** Cada vez que quieras reiniciar la simulación con nuevos parámetros, debes volver a ejecutar esta celda para que la lista `metricas_pacientes` se vacíe."
      ],
      "metadata": {
        "id": "p2LdnFUR2MNS"
      }
    },
    {
      "cell_type": "code",
      "source": [
        "# --- Parámetros de Simulación ---\n",
        "\n",
        "RANDOM_SEED = 42             # Semilla para reproducibilidad\n",
        "NUM_DOCTORES = 3             # Número de médicos (el 'c' en M/M/c)\n",
        "SIM_TIME = 1440              # Tiempo total de simulación (ej. 1440 min = 24 horas)\n",
        "\n",
        "# Prioridades (0 es la más alta en simpy)\n",
        "PRIORIDADES = {\"Rojo\": 0, \"Amarillo\": 1, \"Verde\": 2}\n",
        "\n",
        "# Tiempos promedio de LLEGADA (en minutos) - Inverso de la tasa (1/lambda)\n",
        "TIEMPO_LLEGADA = {\n",
        "    \"Rojo\": 60.0,      # Un paciente rojo llega cada 60 min en promedio\n",
        "    \"Amarillo\": 30.0,    # Un paciente amarillo llega cada 30 min en promedio\n",
        "    \"Verde\": 20.0       # Un paciente verde llega cada 20 min en promedio\n",
        "}\n",
        "\n",
        "# Tiempos promedio de SERVICIO (en minutos) - (1/mu)\n",
        "TIEMPO_SERVICIO = {\n",
        "    \"Rojo\": 25.0,      # El servicio a un paciente rojo dura 25 min en promedio\n",
        "    \"Amarillo\": 15.0,    # El servicio a un paciente amarillo dura 15 min en promedio\n",
        "    \"Verde\": 10.0       # El servicio a un paciente verde dura 10 min en promedio\n",
        "}\n",
        "\n",
        "# --- Almacén de Métricas ---\n",
        "# Esta lista guardará los datos de cada paciente que termine su atención.\n",
        "# La reiniciamos aquí para que cada ejecución de la simulación empiece de cero.\n",
        "metricas_pacientes = []\n",
        "\n",
        "print(\"Parámetros cargados.\")\n",
        "print(f\"{NUM_DOCTORES} doctores disponibles.\")\n",
        "print(f\"Simulación por {SIM_TIME} minutos.\")"
      ],
      "metadata": {
        "id": "8lDHkVhS1n2i"
      },
      "execution_count": null,
      "outputs": []
    },
    {
      "cell_type": "markdown",
      "source": [
        "### Celda 3: Definición de los Procesos (Lógica)\n",
        "\n",
        "Esta celda contiene las funciones que definen la lógica de la simulación: qué hace un paciente, cómo se generan y cómo se inicia todo. Esta celda no produce ninguna salida, solo \"carga\" las funciones en memoria."
      ],
      "metadata": {
        "id": "OU7jK9Gs2RjQ"
      }
    },
    {
      "cell_type": "code",
      "source": [
        "def paciente(env, id_paciente, clase, medicos):\n",
        "    \"\"\"Proceso que modela el flujo de un paciente.\"\"\"\n",
        "    t_llegada = env.now\n",
        "\n",
        "    # Obtener la prioridad numérica para simpy\n",
        "    prioridad = PRIORIDADES[clase]\n",
        "\n",
        "    # Pedir un médico con la prioridad asignada (cola no-preemptiva)\n",
        "    with medicos.request(priority=prioridad) as request:\n",
        "        yield request\n",
        "\n",
        "        # --- Inicio de la atención ---\n",
        "        t_inicio_servicio = env.now\n",
        "        t_espera = t_inicio_servicio - t_llegada\n",
        "\n",
        "        # Simular tiempo de servicio (distribución exponencial)\n",
        "        t_servicio = random.expovariate(1.0 / TIEMPO_SERVICIO[clase])\n",
        "        yield env.timeout(t_servicio)\n",
        "\n",
        "        # --- Fin de la atención ---\n",
        "        t_salida = env.now\n",
        "        t_total_sistema = t_salida - t_llegada\n",
        "\n",
        "        # Guardar métricas (solo para pacientes que completan el ciclo)\n",
        "        metricas_pacientes.append({\n",
        "            \"id\": id_paciente,\n",
        "            \"clase\": clase,\n",
        "            \"t_llegada\": t_llegada,\n",
        "            \"t_inicio_servicio\": t_inicio_servicio,\n",
        "            \"t_espera\": t_espera,\n",
        "            \"t_servicio\": t_servicio,\n",
        "            \"t_salida\": t_salida,\n",
        "            \"t_total_sistema\": t_total_sistema\n",
        "        })\n",
        "\n",
        "def generador_por_clase(env, medicos, clase, id_offset):\n",
        "    \"\"\"Genera pacientes de una clase específica.\"\"\"\n",
        "    id_paciente = id_offset\n",
        "    while True:\n",
        "        # Tiempo entre llegadas (distribución exponencial para un proceso Poisson)\n",
        "        t_entre_llegada = random.expovariate(1.0 / TIEMPO_LLEGADA[clase])\n",
        "        yield env.timeout(t_entre_llegada)\n",
        "\n",
        "        id_paciente += 1\n",
        "        # Crear el proceso del nuevo paciente\n",
        "        # print(f\"t={env.now:.2f}: Llega paciente {id_paciente} ({clase})\") # Descomentar para debug\n",
        "        env.process(paciente(env, id_paciente, clase, medicos))\n",
        "\n",
        "def generador_principal(env, medicos):\n",
        "    \"\"\"Inicia los generadores para cada clase de paciente.\"\"\"\n",
        "    env.process(generador_por_clase(env, medicos, \"Rojo\", 0))\n",
        "    env.process(generador_por_clase(env, medicos, \"Amarillo\", 10000))\n",
        "    env.process(generador_por_clase(env, medicos, \"Verde\", 20000))\n",
        "\n",
        "print(\"Funciones de simulación (paciente, generador_por_clase, generador_principal) definidas.\")"
      ],
      "metadata": {
        "id": "UBNIz0lB1soD"
      },
      "execution_count": null,
      "outputs": []
    },
    {
      "cell_type": "markdown",
      "source": [
        "### Celda 4: Ejecución de la Simulación\n",
        "\n",
        "Esta es la celda que \"enciende\" el motor. Crea el entorno, el recurso (médicos) y corre la simulación durante el `SIM_TIME` que definimos en la Celda 2.\n"
      ],
      "metadata": {
        "id": "5lSS7Nhh2Xun"
      }
    },
    {
      "cell_type": "code",
      "source": [
        "print(f\"Iniciando simulación de Guardia Médica...\")\n",
        "print(\"-\" * 40)\n",
        "\n",
        "# 1. Fijar la semilla aleatoria para que los resultados sean reproducibles\n",
        "random.seed(RANDOM_SEED)\n",
        "\n",
        "# 2. Crear el entorno de simulación\n",
        "env = simpy.Environment()\n",
        "\n",
        "# 3. Crear el recurso (médicos)\n",
        "# Usamos PriorityResource para manejar la prioridad no-preemptiva\n",
        "medicos = simpy.PriorityResource(env, capacity=NUM_DOCTORES)\n",
        "\n",
        "# 4. Iniciar el generador de pacientes\n",
        "env.process(generador_principal(env, medicos))\n",
        "\n",
        "# 5. Correr la simulación\n",
        "env.run(until=SIM_TIME)\n",
        "\n",
        "print(\"-\" * 40)\n",
        "print(f\"Simulación terminada. Se atendieron {len(metricas_pacientes)} pacientes en total.\")"
      ],
      "metadata": {
        "id": "rSO4jh321vYy"
      },
      "execution_count": null,
      "outputs": []
    },
    {
      "cell_type": "markdown",
      "source": [
        "### Celda 5: Análisis de Resultados (KPIs y Tabla)\n",
        "\n",
        "Ahora que `metricas_pacientes` está llena de datos, usamos `pandas` para analizar los resultados y responder las preguntas guía.\n"
      ],
      "metadata": {
        "id": "slVgiu8W2cRS"
      }
    },
    {
      "cell_type": "code",
      "source": [
        "if not metricas_pacientes:\n",
        "    print(\"No se generaron métricas. La simulación pudo ser muy corta o no se ejecutó.\")\n",
        "else:\n",
        "    # 1. Convertir a DataFrame de Pandas para fácil análisis\n",
        "    df_metricas = pd.DataFrame(metricas_pacientes)\n",
        "\n",
        "    # 2. Calcular KPIs (Respondiendo a \"Cálculo de métricas por clase\")\n",
        "    kpis = df_metricas.groupby('clase').agg(\n",
        "        pacientes_atendidos=('id', 'count'),\n",
        "        t_espera_promedio=('t_espera', 'mean'),\n",
        "        t_espera_max=('t_espera', 'max'),\n",
        "        t_sistema_promedio=('t_total_sistema', 'mean'),\n",
        "        t_servicio_promedio=('t_servicio', 'mean')\n",
        "    ).reindex(PRIORIDADES.keys()) # Ordenar por prioridad\n",
        "\n",
        "    print(\"\\n--- KPIs por Clase de Paciente ---\")\n",
        "    # Usamos display() que se ve mejor en notebooks que print()\n",
        "    display(kpis.round(2))\n",
        "\n",
        "    # 3. Responder Preguntas Guía\n",
        "\n",
        "    # \"¿Qué porcentaje de pacientes críticos esperan más de cierto umbral?\"\n",
        "    UMBRAL_ROJO = 10 # 10 minutos\n",
        "    pacientes_rojos = df_metricas[df_metricas['clase'] == 'Rojo']\n",
        "\n",
        "    if not pacientes_rojos.empty:\n",
        "        pct_espera_critica = (pacientes_rojos['t_espera'] > UMBRAL_ROJO).mean() * 100\n",
        "        print(f\"\\n--- Análisis Pacientes Rojos (Críticos) ---\")\n",
        "        print(f\"Porcentaje que espera > {UMBRAL_ROJO} min: {pct_espera_critica:.2f}%\")\n",
        "\n",
        "        # \"¿Qué número de médicos garantiza un SLA de 90% en < 10 minutos para pacientes rojos?\"\n",
        "        sla_percentil_90 = pacientes_rojos['t_espera'].quantile(0.90)\n",
        "        sla_cumplido = (pacientes_rojos['t_espera'] < UMBRAL_ROJO).mean() >= 0.90\n",
        "\n",
        "        print(f\"Percentil 90 de espera: {sla_percentil_90:.2f} min\")\n",
        "        print(f\"SLA (90% atendido en < {UMBRAL_ROJO} min): {'CUMPLIDO' if sla_cumplido else 'NO CUMPLIDO'}\")"
      ],
      "metadata": {
        "id": "Vh1PC2U_1x0g"
      },
      "execution_count": null,
      "outputs": []
    },
    {
      "cell_type": "markdown",
      "source": [
        "### Celda 6: Visualización (Gráficos)\n",
        "\n",
        "Finalmente, generamos los gráficos solicitados (comparativa de esperas y \"heatmap\") usando los datos del DataFrame `df_metricas`."
      ],
      "metadata": {
        "id": "sPBo3C-F14WR"
      }
    },
    {
      "cell_type": "code",
      "source": [
        "# Asegurarnos que el DataFrame existe antes de graficar\n",
        "if 'df_metricas' in locals():\n",
        "\n",
        "    # --- Gráfico 1: Tiempos de Espera por Clase (Boxplot) ---\n",
        "    plt.figure(figsize=(10, 6))\n",
        "    sns.boxplot(data=df_metricas, x='clase', y='t_espera', order=PRIORIDADES.keys())\n",
        "    plt.title('Distribución del Tiempo de Espera por Clase')\n",
        "    plt.xlabel('Clase de Paciente')\n",
        "    plt.ylabel('Tiempo de Espera (min)')\n",
        "    plt.grid(axis='y', linestyle='--', alpha=0.7)\n",
        "    plt.show()\n",
        "\n",
        "    # --- Gráfico 2: \"Heatmap por clase\" (Evolución de la cola) ---\n",
        "    # Un scatter plot es más efectivo para mostrar la \"evolución de la cola\"\n",
        "    # como se pide en el prompt sugerido.\n",
        "    plt.figure(figsize=(12, 7))\n",
        "    sns.scatterplot(data=df_metricas, x='t_llegada', y='t_espera', hue='clase',\n",
        "                    hue_order=PRIORIDADES.keys(), style='clase', s=50, alpha=0.7)\n",
        "    plt.title('Tiempo de Espera vs. Tiempo de Llegada (Evolución de la Cola)')\n",
        "    plt.xlabel('Hora de Llegada (minutos desde inicio)')\n",
        "    plt.ylabel('Tiempo de Espera (min)')\n",
        "    plt.legend(title='Clase')\n",
        "    plt.grid(True, linestyle='--', alpha=0.6)\n",
        "    plt.show()\n",
        "\n",
        "else:\n",
        "    print(\"Ejecuta la Celda 4 y 5 antes de generar gráficos.\")"
      ],
      "metadata": {
        "id": "Jd7CL-yB10Vl"
      },
      "execution_count": null,
      "outputs": []
    },
    {
      "cell_type": "markdown",
      "source": [
        "**Actividad en clase**\n",
        "\n",
        "* Optimización de la estación de servicio con mezcla de vehículos\n",
        "* Objetivo: Experimentar con configuraciones de surtidores (número y tipo) para minimizar la espera media sin sobredimensionar.\n",
        "* Aspectos:\n",
        "    * Llegadas no homogéneas (pico matutino)\n",
        "    * Distribuciones lognormales de servicio\n",
        "    * Capacidad finita de cola\n",
        "* Preguntas guía:\n",
        "    * ¿Qué configuración de surtidores logra una ocupación < 90% y tiempo medio < 3 minutos?\n",
        "    * ¿Cómo impacta la llegada de camiones (servicio más largo)?\n",
        "    * ¿Qué ocurre si se agrega una \"pista rápida\" solo para motos?\n",
        "* Salida esperada: curva de trade-off espera vs. capacidad y ocupación.\n",
        "* Prompt sugerido: \"A partir del código de simulación de la estación de servicio, realizá un experimento de sensibilidad variando el número de surtidores de 4 a 10 y graficá el tiempo promedio de espera y la utilización.\""
      ],
      "metadata": {
        "id": "n8JaaR0j2p4j"
      }
    }
  ]
}