{
  "nbformat": 4,
  "nbformat_minor": 0,
  "metadata": {
    "colab": {
      "provenance": [],
      "authorship_tag": "ABX9TyNCaKrqjjeQ3eFYywApv//M",
      "include_colab_link": true
    },
    "kernelspec": {
      "name": "python3",
      "display_name": "Python 3"
    },
    "language_info": {
      "name": "python"
    }
  },
  "cells": [
    {
      "cell_type": "markdown",
      "metadata": {
        "id": "view-in-github",
        "colab_type": "text"
      },
      "source": [
        "<a href=\"https://colab.research.google.com/github/georgsmeinung/simulacion-en-ciencia-datos/blob/main/Simulacion_Actividad_en_Clase_Emergencia_M%C3%A9dica.ipynb\" target=\"_parent\"><img src=\"https://colab.research.google.com/assets/colab-badge.svg\" alt=\"Open In Colab\"/></a>"
      ]
    },
    {
      "cell_type": "markdown",
      "source": [
        "**Actividad en clase**\n",
        "\n",
        "* Simulación de atención en una guardia médica (M/M/c + prioridades)\n",
        "* Objetivo: Modelar un servicio de emergencia hospitalaria con diferentes niveles de urgencia (rojo, amarillo, verde). Aspectos a analizar:\n",
        "    * Tasa de llegadas por clase (Poisson)\n",
        "    * Tiempos de servicio exponenciales distintos\n",
        "    * Prioridad no-preemptiva\n",
        "    * Cálculo de métricas por clase (espera, ocupación, tiempo total)\n",
        "* Preguntas guía:\n",
        "    * ¿Cuál es el tiempo promedio de espera por nivel de urgencia?\n",
        "    * ¿Qué porcentaje de pacientes críticos esperan más de cierto umbral?\n",
        "    * ¿Qué número de médicos garantiza un SLA de 90% en < 10 minutos para pacientes rojos?\n",
        "* Salida esperada: tabla y gráficos comparativos de tiempos de espera, heatmap por clase.\n",
        "* Prompt sugerido para ChatGPT:”Usando el modelo de estación de servicio adaptado al contexto hospitalario, simulá una guardia médica con 3 clases de pacientes y prioridad no-preemptiva. Mostrá los KPIs por clase y graficá la evolución de la cola.”"
      ],
      "metadata": {
        "id": "i3hQjxASzxkP"
      }
    },
    {
      "cell_type": "code",
      "source": [
        "!pip install simpy"
      ],
      "metadata": {
        "colab": {
          "base_uri": "https://localhost:8080/"
        },
        "id": "HN8diSWi0U3g",
        "outputId": "d4c27712-cd50-426b-f69b-29641af27630"
      },
      "execution_count": 2,
      "outputs": [
        {
          "output_type": "stream",
          "name": "stdout",
          "text": [
            "Collecting simpy\n",
            "  Downloading simpy-4.1.1-py3-none-any.whl.metadata (6.1 kB)\n",
            "Downloading simpy-4.1.1-py3-none-any.whl (27 kB)\n",
            "Installing collected packages: simpy\n",
            "Successfully installed simpy-4.1.1\n"
          ]
        }
      ]
    },
    {
      "cell_type": "code",
      "source": [
        "import simpy\n",
        "import random\n",
        "import numpy as np\n",
        "import pandas as pd\n",
        "import matplotlib.pyplot as plt\n",
        "import seaborn as sns\n",
        "\n",
        "# --- Parámetros de Simulación ---\n",
        "\n",
        "RANDOM_SEED = 42             # Semilla para reproducibilidad\n",
        "NUM_DOCTORES = 3             # Número de médicos (el 'c' en M/M/c)\n",
        "SIM_TIME = 1440              # Tiempo total de simulación (ej. 1440 min = 24 horas)\n",
        "\n",
        "# Prioridades (0 es la más alta en simpy)\n",
        "PRIORIDADES = {\"Rojo\": 0, \"Amarillo\": 1, \"Verde\": 2}\n",
        "CLASES_POR_PRIORIDAD = {v: k for k, v in PRIORIDADES.items()}\n",
        "\n",
        "# Tiempos promedio de LLEGADA (en minutos) - Inverso de la tasa (1/lambda)\n",
        "# Es el tiempo *entre* llegadas de cada clase\n",
        "TIEMPO_LLEGADA = {\n",
        "    \"Rojo\": 60.0,      # Un paciente rojo llega cada 60 min en promedio\n",
        "    \"Amarillo\": 30.0,    # Un paciente amarillo llega cada 30 min en promedio\n",
        "    \"Verde\": 20.0        # Un paciente verde llega cada 20 min en promedio\n",
        "}\n",
        "\n",
        "# Tiempos promedio de SERVICIO (en minutos) - (1/mu)\n",
        "TIEMPO_SERVICIO = {\n",
        "    \"Rojo\": 25.0,      # El servicio a un paciente rojo dura 25 min en promedio\n",
        "    \"Amarillo\": 15.0,    # El servicio a un paciente amarillo dura 15 min en promedio\n",
        "    \"Verde\": 10.0       # El servicio a un paciente verde dura 10 min en promedio\n",
        "}\n",
        "\n",
        "# Lista para guardar todas las métricas de los pacientes\n",
        "metricas_pacientes = []"
      ],
      "metadata": {
        "id": "dISzHqym0CcH"
      },
      "execution_count": 3,
      "outputs": []
    },
    {
      "cell_type": "code",
      "execution_count": 4,
      "metadata": {
        "id": "lz1a8sNxzeFv"
      },
      "outputs": [],
      "source": [
        "# --- Procesos de Simulación ---\n",
        "\n",
        "def paciente(env, id_paciente, clase, medicos):\n",
        "    \"\"\"Proceso que modela el flujo de un paciente.\"\"\"\n",
        "    t_llegada = env.now\n",
        "\n",
        "    # Obtener la prioridad numérica para simpy\n",
        "    prioridad = PRIORIDADES[clase]\n",
        "\n",
        "    # Pedir un médico con la prioridad asignada\n",
        "    # simpy.PriorityResource maneja la cola no-preemptiva automáticamente\n",
        "    with medicos.request(priority=prioridad) as request:\n",
        "        yield request\n",
        "\n",
        "        # --- Inicio de la atención ---\n",
        "        t_inicio_servicio = env.now\n",
        "        t_espera = t_inicio_servicio - t_llegada\n",
        "\n",
        "        # Simular tiempo de servicio (distribución exponencial)\n",
        "        t_servicio = random.expovariate(1.0 / TIEMPO_SERVICIO[clase])\n",
        "        yield env.timeout(t_servicio)\n",
        "\n",
        "        # --- Fin de la atención ---\n",
        "        t_salida = env.now\n",
        "        t_total_sistema = t_salida - t_llegada\n",
        "\n",
        "        # Guardar métricas\n",
        "        metricas_pacientes.append({\n",
        "            \"id\": id_paciente,\n",
        "            \"clase\": clase,\n",
        "            \"t_llegada\": t_llegada,\n",
        "            \"t_inicio_servicio\": t_inicio_servicio,\n",
        "            \"t_espera\": t_espera,\n",
        "            \"t_servicio\": t_servicio,\n",
        "            \"t_salida\": t_salida,\n",
        "            \"t_total_sistema\": t_total_sistema\n",
        "        })\n",
        "\n",
        "def generador_por_clase(env, medicos, clase, id_offset):\n",
        "    \"\"\"Genera pacientes de una clase específica.\"\"\"\n",
        "    id_paciente = id_offset\n",
        "    while True:\n",
        "        # Tiempo entre llegadas (distribución exponencial para un proceso Poisson)\n",
        "        t_entre_llegada = random.expovariate(1.0 / TIEMPO_LLEGADA[clase])\n",
        "        yield env.timeout(t_entre_llegada)\n",
        "\n",
        "        id_paciente += 1\n",
        "        # Crear el proceso del nuevo paciente\n",
        "        print(f\"t={env.now:.2f}: Llega paciente {id_paciente} ({clase})\")\n",
        "        env.process(paciente(env, id_paciente, clase, medicos))\n",
        "\n",
        "def generador_principal(env, medicos):\n",
        "    \"\"\"Inicia los generadores para cada clase de paciente.\"\"\"\n",
        "    # Iniciar un generador separado para cada clase\n",
        "    # Cada uno corre en paralelo con su propia tasa de llegada\n",
        "    env.process(generador_por_clase(env, medicos, \"Rojo\", 0))\n",
        "    env.process(generador_por_clase(env, medicos, \"Amarillo\", 10000))\n",
        "    env.process(generador_por_clase(env, medicos, \"Verde\", 20000))"
      ]
    },
    {
      "cell_type": "code",
      "source": [
        "# --- Ejecución de la Simulación ---\n",
        "\n",
        "print(f\"Iniciando simulación de Guardia Médica (M/M/c con prioridades)\")\n",
        "print(f\"Doctores: {NUM_DOCTORES}, Tiempo Sim.: {SIM_TIME} min (24 horas)\")\n",
        "print(\"-\" * 40)\n",
        "\n",
        "random.seed(RANDOM_SEED)\n",
        "\n",
        "# Crear el entorno de simulación\n",
        "env = simpy.Environment()\n",
        "\n",
        "# Crear el recurso (médicos)\n",
        "# Usamos PriorityResource para manejar la prioridad no-preemptiva\n",
        "medicos = simpy.PriorityResource(env, capacity=NUM_DOCTORES)\n",
        "\n",
        "# Iniciar el generador de pacientes\n",
        "env.process(generador_principal(env, medicos))\n",
        "\n",
        "# Correr la simulación\n",
        "env.run(until=SIM_TIME)\n",
        "\n",
        "print(\"-\" * 40)\n",
        "print(\"Simulación terminada.\")"
      ],
      "metadata": {
        "colab": {
          "base_uri": "https://localhost:8080/",
          "height": 384
        },
        "id": "hPMfRiSk0HoE",
        "outputId": "545dcae3-32d6-4f56-88aa-d666a1b59a9f"
      },
      "execution_count": 6,
      "outputs": [
        {
          "output_type": "stream",
          "name": "stdout",
          "text": [
            "Iniciando simulación de Guardia Médica (M/M/c con prioridades)\n",
            "Doctores: 3, Tiempo Sim.: 1440 min (24 horas)\n",
            "----------------------------------------\n"
          ]
        },
        {
          "output_type": "error",
          "ename": "ValueError",
          "evalue": "None is not a generator.",
          "traceback": [
            "\u001b[0;31m---------------------------------------------------------------------------\u001b[0m",
            "\u001b[0;31mValueError\u001b[0m                                Traceback (most recent call last)",
            "\u001b[0;32m/tmp/ipython-input-1792663882.py\u001b[0m in \u001b[0;36m<cell line: 0>\u001b[0;34m()\u001b[0m\n\u001b[1;32m     15\u001b[0m \u001b[0;34m\u001b[0m\u001b[0m\n\u001b[1;32m     16\u001b[0m \u001b[0;31m# Iniciar el generador de pacientes\u001b[0m\u001b[0;34m\u001b[0m\u001b[0;34m\u001b[0m\u001b[0m\n\u001b[0;32m---> 17\u001b[0;31m \u001b[0menv\u001b[0m\u001b[0;34m.\u001b[0m\u001b[0mprocess\u001b[0m\u001b[0;34m(\u001b[0m\u001b[0mgenerador_principal\u001b[0m\u001b[0;34m(\u001b[0m\u001b[0menv\u001b[0m\u001b[0;34m,\u001b[0m \u001b[0mmedicos\u001b[0m\u001b[0;34m)\u001b[0m\u001b[0;34m)\u001b[0m\u001b[0;34m\u001b[0m\u001b[0;34m\u001b[0m\u001b[0m\n\u001b[0m\u001b[1;32m     18\u001b[0m \u001b[0;34m\u001b[0m\u001b[0m\n\u001b[1;32m     19\u001b[0m \u001b[0;31m# Correr la simulación\u001b[0m\u001b[0;34m\u001b[0m\u001b[0;34m\u001b[0m\u001b[0m\n",
            "\u001b[0;32m/usr/local/lib/python3.12/dist-packages/simpy/events.py\u001b[0m in \u001b[0;36m__init__\u001b[0;34m(self, env, generator)\u001b[0m\n\u001b[1;32m    339\u001b[0m             \u001b[0;31m# with a ``throw`` attribute are generators.\u001b[0m\u001b[0;34m\u001b[0m\u001b[0;34m\u001b[0m\u001b[0m\n\u001b[1;32m    340\u001b[0m             \u001b[0;31m# Remove this workaround if it causes issues in production!\u001b[0m\u001b[0;34m\u001b[0m\u001b[0;34m\u001b[0m\u001b[0m\n\u001b[0;32m--> 341\u001b[0;31m             \u001b[0;32mraise\u001b[0m \u001b[0mValueError\u001b[0m\u001b[0;34m(\u001b[0m\u001b[0;34mf'{generator} is not a generator.'\u001b[0m\u001b[0;34m)\u001b[0m\u001b[0;34m\u001b[0m\u001b[0;34m\u001b[0m\u001b[0m\n\u001b[0m\u001b[1;32m    342\u001b[0m \u001b[0;34m\u001b[0m\u001b[0m\n\u001b[1;32m    343\u001b[0m         \u001b[0;31m# NOTE: The following initialization code is inlined from\u001b[0m\u001b[0;34m\u001b[0m\u001b[0;34m\u001b[0m\u001b[0m\n",
            "\u001b[0;31mValueError\u001b[0m: None is not a generator."
          ]
        }
      ]
    },
    {
      "cell_type": "code",
      "source": [
        "# --- Análisis y Salida de Resultados ---\n",
        "\n",
        "if not metricas_pacientes:\n",
        "    print(\"No se generaron métricas. La simulación pudo ser muy corta.\")\n",
        "else:\n",
        "    # 1. Convertir a DataFrame de Pandas para fácil análisis\n",
        "    df_metricas = pd.DataFrame(metricas_pacientes)\n",
        "\n",
        "    # 2. Calcular KPIs (Respondiendo a \"Cálculo de métricas por clase\")\n",
        "    kpis = df_metricas.groupby('clase').agg(\n",
        "        pacientes_atendidos=('id', 'count'),\n",
        "        t_espera_promedio=('t_espera', 'mean'),\n",
        "        t_espera_max=('t_espera', 'max'),\n",
        "        t_sistema_promedio=('t_total_sistema', 'mean'),\n",
        "        t_servicio_promedio=('t_servicio', 'mean')\n",
        "    ).reindex(PRIORIDADES.keys()) # Ordenar por prioridad\n",
        "\n",
        "    print(\"\\n--- KPIs por Clase de Paciente ---\")\n",
        "    print(kpis.to_markdown(floatfmt=\".2f\"))\n",
        "\n",
        "    # 3. Responder Preguntas Guía (parcialmente)\n",
        "\n",
        "    # \"¿Qué porcentaje de pacientes críticos esperan más de cierto umbral?\"\n",
        "    UMBRAL_ROJO = 10 # 10 minutos\n",
        "    pacientes_rojos = df_metricas[df_metricas['clase'] == 'Rojo']\n",
        "    if not pacientes_rojos.empty:\n",
        "        pct_espera_critica = (pacientes_rojos['t_espera'] > UMBRAL_ROJO).mean() * 100\n",
        "        print(f\"\\n--- Análisis Pacientes Rojos (Críticos) ---\")\n",
        "        print(f\"Porcentaje que espera > {UMBRAL_ROJO} min: {pct_espera_critica:.2f}%\")\n",
        "\n",
        "        # \"¿Qué número de médicos garantiza un SLA de 90% en < 10 minutos para pacientes rojos?\"\n",
        "        sla_percentil_90 = pacientes_rojos['t_espera'].quantile(0.90)\n",
        "        sla_cumplido = (pacientes_rojos['t_espera'] < UMBRAL_ROJO).mean() >= 0.90\n",
        "\n",
        "        print(f\"Percentil 90 de espera: {sla_percentil_90:.2f} min\")\n",
        "        print(f\"SLA (90% atendido en < {UMBRAL_ROJO} min): {'CUMPLIDO' if sla_cumplido else 'NO CUMPLIDO'}\")\n",
        "\n",
        "    # 4. Generar Gráficos (Salida esperada: \"gráficos comparativos de tiempos de espera\")\n",
        "\n",
        "    # --- Gráfico 1: Tiempos de Espera por Clase (Boxplot) ---\n",
        "    plt.figure(figsize=(10, 6))\n",
        "    sns.boxplot(data=df_metricas, x='clase', y='t_espera', order=PRIORIDADES.keys())\n",
        "    plt.title('Distribución del Tiempo de Espera por Clase')\n",
        "    plt.xlabel('Clase de Paciente')\n",
        "    plt.ylabel('Tiempo de Espera (min)')\n",
        "    plt.grid(axis='y', linestyle='--', alpha=0.7)\n",
        "    plt.show()\n",
        "\n",
        "    # --- Gráfico 2: \"Heatmap por clase\" (interpretado como tiempos de espera vs. llegada) ---\n",
        "    # Un scatter plot con colores por clase es más claro que un heatmap aquí.\n",
        "    plt.figure(figsize=(12, 7))\n",
        "    sns.scatterplot(data=df_metricas, x='t_llegada', y='t_espera', hue='clase',\n",
        "                    hue_order=PRIORIDADES.keys(), style='clase', s=50, alpha=0.7)\n",
        "    plt.title('Tiempo de Espera vs. Tiempo de Llegada')\n",
        "    plt.xlabel('Hora de Llegada (minutos desde inicio)')\n",
        "    plt.ylabel('Tiempo de Espera (min)')\n",
        "    plt.legend(title='Clase')\n",
        "    plt.grid(True, linestyle='--', alpha=0.6)\n",
        "    plt.show()"
      ],
      "metadata": {
        "id": "inw0bv3c0LXg"
      },
      "execution_count": null,
      "outputs": []
    },
    {
      "cell_type": "markdown",
      "source": [
        "**Actividad en clase**\n",
        "\n",
        "* Optimización de la estación de servicio con mezcla de vehículos\n",
        "* Objetivo: Experimentar con configuraciones de surtidores (número y tipo) para minimizar la espera media sin sobredimensionar.\n",
        "* Aspectos:\n",
        "    * Llegadas no homogéneas (pico matutino)\n",
        "    * Distribuciones lognormales de servicio\n",
        "    * Capacidad finita de cola\n",
        "* Preguntas guía:\n",
        "    * ¿Qué configuración de surtidores logra una ocupación < 90% y tiempo medio < 3 minutos?\n",
        "    * ¿Cómo impacta la llegada de camiones (servicio más largo)?\n",
        "    * ¿Qué ocurre si se agrega una \"pista rápida\" solo para motos?\n",
        "* Salida esperada: curva de trade-off espera vs. capacidad y ocupación.\n",
        "* Prompt sugerido: \"A partir del código de simulación de la estación de servicio, realizá un experimento de sensibilidad variando el número de surtidores de 4 a 10 y graficá el tiempo promedio de espera y la utilización.\""
      ],
      "metadata": {
        "id": "HRXe8PKwz4Xz"
      }
    },
    {
      "cell_type": "code",
      "source": [],
      "metadata": {
        "id": "3P4wZuMoz8FO"
      },
      "execution_count": null,
      "outputs": []
    }
  ]
}